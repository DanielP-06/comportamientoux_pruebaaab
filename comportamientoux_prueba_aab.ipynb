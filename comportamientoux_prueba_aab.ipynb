{
  "nbformat": 4,
  "nbformat_minor": 0,
  "metadata": {
    "colab": {
      "provenance": []
    },
    "kernelspec": {
      "name": "python3",
      "display_name": "Python 3"
    },
    "language_info": {
      "name": "python"
    }
  },
  "cells": [
    {
      "cell_type": "markdown",
      "source": [
        "# **Comportamiento de Usuario y Prueba de Tipografía**"
      ],
      "metadata": {
        "id": "qe2K9FvAvujj"
      }
    },
    {
      "cell_type": "markdown",
      "source": [
        "## Análisis A/A/B para la Optimización de la Conversión en E-commerce de Alimentos"
      ],
      "metadata": {
        "id": "xjpgRitjwLcq"
      }
    },
    {
      "cell_type": "markdown",
      "source": [
        "## **Introducción**\n",
        "\n",
        "### Introducción\n",
        "### Este análisis se centra en dos componentes esenciales para la mejora continua de nuestra aplicación de productos alimenticios: la comprensión del flujo de usuarios y la validación de cambios de diseño.\n",
        "\n",
        "### 1. Mapeo del Embudo de Conversión: Desglosaremos el recorrido del usuario para identificar con precisión cuántos usuarios llegan a la etapa de compra y, crucialmente, dónde se pierden a lo largo del camino. Esto nos permitirá focalizar los esfuerzos de optimización en los cuellos de botella de mayor impacto.\n",
        "\n",
        "### 2. Validación A/A/B de la Fuente: Implementamos un test A/A/B para medir objetivamente la recepción de un cambio de fuentes en la aplicación. Evaluaremos si la nueva tipografía intimida o, por el contrario, mejora la interacción, utilizando un análisis estadístico riguroso para comparar el grupo de prueba con los grupos de control.\n",
        "\n",
        "### El objetivo final es entregar conclusiones accionables para mejorar la tasa de conversión y guiar las decisiones de diseño con evidencia empírica."
      ],
      "metadata": {
        "id": "fAtdxsh3wZ4M"
      }
    },
    {
      "cell_type": "markdown",
      "source": [
        "### Paso 1. Carga y preparación de DataFrame"
      ],
      "metadata": {
        "id": "8yGLQTOp-P0o"
      }
    },
    {
      "cell_type": "code",
      "execution_count": 1,
      "metadata": {
        "colab": {
          "base_uri": "https://localhost:8080/",
          "height": 362
        },
        "id": "TvK4zZ9NvzwX",
        "outputId": "4d559195-108c-474a-d26a-64978bf3978b"
      },
      "outputs": [
        {
          "output_type": "stream",
          "name": "stdout",
          "text": [
            "<class 'pandas.core.frame.DataFrame'>\n",
            "RangeIndex: 244126 entries, 0 to 244125\n",
            "Data columns (total 1 columns):\n",
            " #   Column                                       Non-Null Count   Dtype \n",
            "---  ------                                       --------------   ----- \n",
            " 0   EventName\tDeviceIDHash\tEventTimestamp\tExpId  244126 non-null  object\n",
            "dtypes: object(1)\n",
            "memory usage: 1.9+ MB\n",
            "---------------------------------------------------\n"
          ]
        },
        {
          "output_type": "execute_result",
          "data": {
            "text/plain": [
              "      EventName\\tDeviceIDHash\\tEventTimestamp\\tExpId\n",
              "0  MainScreenAppear\\t4575588528974610257\\t1564029...\n",
              "1  MainScreenAppear\\t7416695313311560658\\t1564053...\n",
              "2  PaymentScreenSuccessful\\t3518123091307005509\\t...\n",
              "3  CartScreenAppear\\t3518123091307005509\\t1564054...\n",
              "4  PaymentScreenSuccessful\\t6217807653094995999\\t..."
            ],
            "text/html": [
              "\n",
              "  <div id=\"df-ab7dc2bb-8398-4541-adaa-24ec3792bd1c\" class=\"colab-df-container\">\n",
              "    <div>\n",
              "<style scoped>\n",
              "    .dataframe tbody tr th:only-of-type {\n",
              "        vertical-align: middle;\n",
              "    }\n",
              "\n",
              "    .dataframe tbody tr th {\n",
              "        vertical-align: top;\n",
              "    }\n",
              "\n",
              "    .dataframe thead th {\n",
              "        text-align: right;\n",
              "    }\n",
              "</style>\n",
              "<table border=\"1\" class=\"dataframe\">\n",
              "  <thead>\n",
              "    <tr style=\"text-align: right;\">\n",
              "      <th></th>\n",
              "      <th>EventName\\tDeviceIDHash\\tEventTimestamp\\tExpId</th>\n",
              "    </tr>\n",
              "  </thead>\n",
              "  <tbody>\n",
              "    <tr>\n",
              "      <th>0</th>\n",
              "      <td>MainScreenAppear\\t4575588528974610257\\t1564029...</td>\n",
              "    </tr>\n",
              "    <tr>\n",
              "      <th>1</th>\n",
              "      <td>MainScreenAppear\\t7416695313311560658\\t1564053...</td>\n",
              "    </tr>\n",
              "    <tr>\n",
              "      <th>2</th>\n",
              "      <td>PaymentScreenSuccessful\\t3518123091307005509\\t...</td>\n",
              "    </tr>\n",
              "    <tr>\n",
              "      <th>3</th>\n",
              "      <td>CartScreenAppear\\t3518123091307005509\\t1564054...</td>\n",
              "    </tr>\n",
              "    <tr>\n",
              "      <th>4</th>\n",
              "      <td>PaymentScreenSuccessful\\t6217807653094995999\\t...</td>\n",
              "    </tr>\n",
              "  </tbody>\n",
              "</table>\n",
              "</div>\n",
              "    <div class=\"colab-df-buttons\">\n",
              "\n",
              "  <div class=\"colab-df-container\">\n",
              "    <button class=\"colab-df-convert\" onclick=\"convertToInteractive('df-ab7dc2bb-8398-4541-adaa-24ec3792bd1c')\"\n",
              "            title=\"Convert this dataframe to an interactive table.\"\n",
              "            style=\"display:none;\">\n",
              "\n",
              "  <svg xmlns=\"http://www.w3.org/2000/svg\" height=\"24px\" viewBox=\"0 -960 960 960\">\n",
              "    <path d=\"M120-120v-720h720v720H120Zm60-500h600v-160H180v160Zm220 220h160v-160H400v160Zm0 220h160v-160H400v160ZM180-400h160v-160H180v160Zm440 0h160v-160H620v160ZM180-180h160v-160H180v160Zm440 0h160v-160H620v160Z\"/>\n",
              "  </svg>\n",
              "    </button>\n",
              "\n",
              "  <style>\n",
              "    .colab-df-container {\n",
              "      display:flex;\n",
              "      gap: 12px;\n",
              "    }\n",
              "\n",
              "    .colab-df-convert {\n",
              "      background-color: #E8F0FE;\n",
              "      border: none;\n",
              "      border-radius: 50%;\n",
              "      cursor: pointer;\n",
              "      display: none;\n",
              "      fill: #1967D2;\n",
              "      height: 32px;\n",
              "      padding: 0 0 0 0;\n",
              "      width: 32px;\n",
              "    }\n",
              "\n",
              "    .colab-df-convert:hover {\n",
              "      background-color: #E2EBFA;\n",
              "      box-shadow: 0px 1px 2px rgba(60, 64, 67, 0.3), 0px 1px 3px 1px rgba(60, 64, 67, 0.15);\n",
              "      fill: #174EA6;\n",
              "    }\n",
              "\n",
              "    .colab-df-buttons div {\n",
              "      margin-bottom: 4px;\n",
              "    }\n",
              "\n",
              "    [theme=dark] .colab-df-convert {\n",
              "      background-color: #3B4455;\n",
              "      fill: #D2E3FC;\n",
              "    }\n",
              "\n",
              "    [theme=dark] .colab-df-convert:hover {\n",
              "      background-color: #434B5C;\n",
              "      box-shadow: 0px 1px 3px 1px rgba(0, 0, 0, 0.15);\n",
              "      filter: drop-shadow(0px 1px 2px rgba(0, 0, 0, 0.3));\n",
              "      fill: #FFFFFF;\n",
              "    }\n",
              "  </style>\n",
              "\n",
              "    <script>\n",
              "      const buttonEl =\n",
              "        document.querySelector('#df-ab7dc2bb-8398-4541-adaa-24ec3792bd1c button.colab-df-convert');\n",
              "      buttonEl.style.display =\n",
              "        google.colab.kernel.accessAllowed ? 'block' : 'none';\n",
              "\n",
              "      async function convertToInteractive(key) {\n",
              "        const element = document.querySelector('#df-ab7dc2bb-8398-4541-adaa-24ec3792bd1c');\n",
              "        const dataTable =\n",
              "          await google.colab.kernel.invokeFunction('convertToInteractive',\n",
              "                                                    [key], {});\n",
              "        if (!dataTable) return;\n",
              "\n",
              "        const docLinkHtml = 'Like what you see? Visit the ' +\n",
              "          '<a target=\"_blank\" href=https://colab.research.google.com/notebooks/data_table.ipynb>data table notebook</a>'\n",
              "          + ' to learn more about interactive tables.';\n",
              "        element.innerHTML = '';\n",
              "        dataTable['output_type'] = 'display_data';\n",
              "        await google.colab.output.renderOutput(dataTable, element);\n",
              "        const docLink = document.createElement('div');\n",
              "        docLink.innerHTML = docLinkHtml;\n",
              "        element.appendChild(docLink);\n",
              "      }\n",
              "    </script>\n",
              "  </div>\n",
              "\n",
              "\n",
              "    <div id=\"df-fe393fd9-9f6d-4fa4-9889-571b42262af6\">\n",
              "      <button class=\"colab-df-quickchart\" onclick=\"quickchart('df-fe393fd9-9f6d-4fa4-9889-571b42262af6')\"\n",
              "                title=\"Suggest charts\"\n",
              "                style=\"display:none;\">\n",
              "\n",
              "<svg xmlns=\"http://www.w3.org/2000/svg\" height=\"24px\"viewBox=\"0 0 24 24\"\n",
              "     width=\"24px\">\n",
              "    <g>\n",
              "        <path d=\"M19 3H5c-1.1 0-2 .9-2 2v14c0 1.1.9 2 2 2h14c1.1 0 2-.9 2-2V5c0-1.1-.9-2-2-2zM9 17H7v-7h2v7zm4 0h-2V7h2v10zm4 0h-2v-4h2v4z\"/>\n",
              "    </g>\n",
              "</svg>\n",
              "      </button>\n",
              "\n",
              "<style>\n",
              "  .colab-df-quickchart {\n",
              "      --bg-color: #E8F0FE;\n",
              "      --fill-color: #1967D2;\n",
              "      --hover-bg-color: #E2EBFA;\n",
              "      --hover-fill-color: #174EA6;\n",
              "      --disabled-fill-color: #AAA;\n",
              "      --disabled-bg-color: #DDD;\n",
              "  }\n",
              "\n",
              "  [theme=dark] .colab-df-quickchart {\n",
              "      --bg-color: #3B4455;\n",
              "      --fill-color: #D2E3FC;\n",
              "      --hover-bg-color: #434B5C;\n",
              "      --hover-fill-color: #FFFFFF;\n",
              "      --disabled-bg-color: #3B4455;\n",
              "      --disabled-fill-color: #666;\n",
              "  }\n",
              "\n",
              "  .colab-df-quickchart {\n",
              "    background-color: var(--bg-color);\n",
              "    border: none;\n",
              "    border-radius: 50%;\n",
              "    cursor: pointer;\n",
              "    display: none;\n",
              "    fill: var(--fill-color);\n",
              "    height: 32px;\n",
              "    padding: 0;\n",
              "    width: 32px;\n",
              "  }\n",
              "\n",
              "  .colab-df-quickchart:hover {\n",
              "    background-color: var(--hover-bg-color);\n",
              "    box-shadow: 0 1px 2px rgba(60, 64, 67, 0.3), 0 1px 3px 1px rgba(60, 64, 67, 0.15);\n",
              "    fill: var(--button-hover-fill-color);\n",
              "  }\n",
              "\n",
              "  .colab-df-quickchart-complete:disabled,\n",
              "  .colab-df-quickchart-complete:disabled:hover {\n",
              "    background-color: var(--disabled-bg-color);\n",
              "    fill: var(--disabled-fill-color);\n",
              "    box-shadow: none;\n",
              "  }\n",
              "\n",
              "  .colab-df-spinner {\n",
              "    border: 2px solid var(--fill-color);\n",
              "    border-color: transparent;\n",
              "    border-bottom-color: var(--fill-color);\n",
              "    animation:\n",
              "      spin 1s steps(1) infinite;\n",
              "  }\n",
              "\n",
              "  @keyframes spin {\n",
              "    0% {\n",
              "      border-color: transparent;\n",
              "      border-bottom-color: var(--fill-color);\n",
              "      border-left-color: var(--fill-color);\n",
              "    }\n",
              "    20% {\n",
              "      border-color: transparent;\n",
              "      border-left-color: var(--fill-color);\n",
              "      border-top-color: var(--fill-color);\n",
              "    }\n",
              "    30% {\n",
              "      border-color: transparent;\n",
              "      border-left-color: var(--fill-color);\n",
              "      border-top-color: var(--fill-color);\n",
              "      border-right-color: var(--fill-color);\n",
              "    }\n",
              "    40% {\n",
              "      border-color: transparent;\n",
              "      border-right-color: var(--fill-color);\n",
              "      border-top-color: var(--fill-color);\n",
              "    }\n",
              "    60% {\n",
              "      border-color: transparent;\n",
              "      border-right-color: var(--fill-color);\n",
              "    }\n",
              "    80% {\n",
              "      border-color: transparent;\n",
              "      border-right-color: var(--fill-color);\n",
              "      border-bottom-color: var(--fill-color);\n",
              "    }\n",
              "    90% {\n",
              "      border-color: transparent;\n",
              "      border-bottom-color: var(--fill-color);\n",
              "    }\n",
              "  }\n",
              "</style>\n",
              "\n",
              "      <script>\n",
              "        async function quickchart(key) {\n",
              "          const quickchartButtonEl =\n",
              "            document.querySelector('#' + key + ' button');\n",
              "          quickchartButtonEl.disabled = true;  // To prevent multiple clicks.\n",
              "          quickchartButtonEl.classList.add('colab-df-spinner');\n",
              "          try {\n",
              "            const charts = await google.colab.kernel.invokeFunction(\n",
              "                'suggestCharts', [key], {});\n",
              "          } catch (error) {\n",
              "            console.error('Error during call to suggestCharts:', error);\n",
              "          }\n",
              "          quickchartButtonEl.classList.remove('colab-df-spinner');\n",
              "          quickchartButtonEl.classList.add('colab-df-quickchart-complete');\n",
              "        }\n",
              "        (() => {\n",
              "          let quickchartButtonEl =\n",
              "            document.querySelector('#df-fe393fd9-9f6d-4fa4-9889-571b42262af6 button');\n",
              "          quickchartButtonEl.style.display =\n",
              "            google.colab.kernel.accessAllowed ? 'block' : 'none';\n",
              "        })();\n",
              "      </script>\n",
              "    </div>\n",
              "\n",
              "    </div>\n",
              "  </div>\n"
            ],
            "application/vnd.google.colaboratory.intrinsic+json": {
              "type": "dataframe",
              "summary": "{\n  \"name\": \"df_logs\",\n  \"rows\": 5,\n  \"fields\": [\n    {\n      \"column\": \"EventName\\tDeviceIDHash\\tEventTimestamp\\tExpId\",\n      \"properties\": {\n        \"dtype\": \"string\",\n        \"num_unique_values\": 5,\n        \"samples\": [\n          \"MainScreenAppear\\t7416695313311560658\\t1564053102\\t246\",\n          \"PaymentScreenSuccessful\\t6217807653094995999\\t1564055322\\t248\",\n          \"PaymentScreenSuccessful\\t3518123091307005509\\t1564054127\\t248\"\n        ],\n        \"semantic_type\": \"\",\n        \"description\": \"\"\n      }\n    }\n  ]\n}"
            }
          },
          "metadata": {},
          "execution_count": 1
        }
      ],
      "source": [
        "import pandas as pd\n",
        "import matplotlib.pyplot as plt\n",
        "import seaborn as sns\n",
        "\n",
        "\n",
        "# Cargamos el Dataframe y visualizamos su informacioón.\n",
        "df_logs = pd.read_csv('/content/drive/MyDrive/Colab Notebooks/logs_exp_us.csv')\n",
        "df_logs.info()\n",
        "print('---------------------------------------------------')\n",
        "df_logs. head()\n",
        "\n"
      ]
    },
    {
      "cell_type": "markdown",
      "source": [
        "### Observaciones: Vemos que el formato de los datos no es ideal, ya que todas las columnas parecen estar en una sola columna separada por tabulaciones \\\\. Antes de empezar a analizar los datos, necesitamos limpiarlos y prepararlos adecuadamente."
      ],
      "metadata": {
        "id": "tNs2Bh2e-s_D"
      }
    },
    {
      "cell_type": "markdown",
      "source": [
        "### Paso 2. Preparar los datos para el análisis"
      ],
      "metadata": {
        "id": "hZj3G8wxAD36"
      }
    },
    {
      "cell_type": "code",
      "metadata": {
        "colab": {
          "base_uri": "https://localhost:8080/"
        },
        "id": "bbb2445c",
        "outputId": "b142dc26-6e42-467d-824d-75ad58cd5d94"
      },
      "source": [
        "# Separamos la columna en múltiples columnas usando el delimitador \\\n",
        "df_logs[['event_name', 'device_id_hash', 'event_timestamp', 'exp_id']] = df_logs['EventName\\tDeviceIDHash\\tEventTimestamp\\tExpId'].str.split('\\t', expand=True)\n",
        "\n",
        "# Eliminamos la columna original\n",
        "df_logs = df_logs.drop('EventName\\tDeviceIDHash\\tEventTimestamp\\tExpId', axis=1)\n",
        "\n",
        "\n",
        "# Mostrar los tipos de datos actuales y verificar valores ausentes\n",
        "df_logs.info()\n",
        "print('---------------------------------------------------')\n",
        "print(\"Valores ausentes por columna:\")\n",
        "print(df_logs.isnull().sum())"
      ],
      "execution_count": 2,
      "outputs": [
        {
          "output_type": "stream",
          "name": "stdout",
          "text": [
            "<class 'pandas.core.frame.DataFrame'>\n",
            "RangeIndex: 244126 entries, 0 to 244125\n",
            "Data columns (total 4 columns):\n",
            " #   Column           Non-Null Count   Dtype \n",
            "---  ------           --------------   ----- \n",
            " 0   event_name       244126 non-null  object\n",
            " 1   device_id_hash   244126 non-null  object\n",
            " 2   event_timestamp  244126 non-null  object\n",
            " 3   exp_id           244126 non-null  object\n",
            "dtypes: object(4)\n",
            "memory usage: 7.5+ MB\n",
            "---------------------------------------------------\n",
            "Valores ausentes por columna:\n",
            "event_name         0\n",
            "device_id_hash     0\n",
            "event_timestamp    0\n",
            "exp_id             0\n",
            "dtype: int64\n"
          ]
        }
      ]
    },
    {
      "cell_type": "code",
      "metadata": {
        "colab": {
          "base_uri": "https://localhost:8080/",
          "height": 573
        },
        "id": "82b0e44b",
        "outputId": "0167ba28-f880-4d53-98ab-7d81945fa5a3"
      },
      "source": [
        "# Convertimos 'event_timestamp' a formato datetime\n",
        "df_logs['event_timestamp'] = pd.to_datetime(df_logs['event_timestamp'], unit='s')\n",
        "\n",
        "# Creamos una columna separada para la fecha\n",
        "df_logs['event_date'] = df_logs['event_timestamp'].dt.date\n",
        "\n",
        "# Mostramos los tipos de datos actualizados y las primeras filas\n",
        "df_logs.info()\n",
        "print('---------------------------------------------------')\n",
        "display(df_logs.head())"
      ],
      "execution_count": 3,
      "outputs": [
        {
          "output_type": "stream",
          "name": "stderr",
          "text": [
            "/tmp/ipython-input-1925584944.py:2: FutureWarning: The behavior of 'to_datetime' with 'unit' when parsing strings is deprecated. In a future version, strings will be parsed as datetime strings, matching the behavior without a 'unit'. To retain the old behavior, explicitly cast ints or floats to numeric type before calling to_datetime.\n",
            "  df_logs['event_timestamp'] = pd.to_datetime(df_logs['event_timestamp'], unit='s')\n"
          ]
        },
        {
          "output_type": "stream",
          "name": "stdout",
          "text": [
            "<class 'pandas.core.frame.DataFrame'>\n",
            "RangeIndex: 244126 entries, 0 to 244125\n",
            "Data columns (total 5 columns):\n",
            " #   Column           Non-Null Count   Dtype         \n",
            "---  ------           --------------   -----         \n",
            " 0   event_name       244126 non-null  object        \n",
            " 1   device_id_hash   244126 non-null  object        \n",
            " 2   event_timestamp  244126 non-null  datetime64[ns]\n",
            " 3   exp_id           244126 non-null  object        \n",
            " 4   event_date       244126 non-null  object        \n",
            "dtypes: datetime64[ns](1), object(4)\n",
            "memory usage: 9.3+ MB\n",
            "---------------------------------------------------\n"
          ]
        },
        {
          "output_type": "display_data",
          "data": {
            "text/plain": [
              "                event_name       device_id_hash     event_timestamp exp_id  \\\n",
              "0         MainScreenAppear  4575588528974610257 2019-07-25 04:43:36    246   \n",
              "1         MainScreenAppear  7416695313311560658 2019-07-25 11:11:42    246   \n",
              "2  PaymentScreenSuccessful  3518123091307005509 2019-07-25 11:28:47    248   \n",
              "3         CartScreenAppear  3518123091307005509 2019-07-25 11:28:47    248   \n",
              "4  PaymentScreenSuccessful  6217807653094995999 2019-07-25 11:48:42    248   \n",
              "\n",
              "   event_date  \n",
              "0  2019-07-25  \n",
              "1  2019-07-25  \n",
              "2  2019-07-25  \n",
              "3  2019-07-25  \n",
              "4  2019-07-25  "
            ],
            "text/html": [
              "\n",
              "  <div id=\"df-a07e7624-a0f1-4eb1-a9e6-819156f2ee61\" class=\"colab-df-container\">\n",
              "    <div>\n",
              "<style scoped>\n",
              "    .dataframe tbody tr th:only-of-type {\n",
              "        vertical-align: middle;\n",
              "    }\n",
              "\n",
              "    .dataframe tbody tr th {\n",
              "        vertical-align: top;\n",
              "    }\n",
              "\n",
              "    .dataframe thead th {\n",
              "        text-align: right;\n",
              "    }\n",
              "</style>\n",
              "<table border=\"1\" class=\"dataframe\">\n",
              "  <thead>\n",
              "    <tr style=\"text-align: right;\">\n",
              "      <th></th>\n",
              "      <th>event_name</th>\n",
              "      <th>device_id_hash</th>\n",
              "      <th>event_timestamp</th>\n",
              "      <th>exp_id</th>\n",
              "      <th>event_date</th>\n",
              "    </tr>\n",
              "  </thead>\n",
              "  <tbody>\n",
              "    <tr>\n",
              "      <th>0</th>\n",
              "      <td>MainScreenAppear</td>\n",
              "      <td>4575588528974610257</td>\n",
              "      <td>2019-07-25 04:43:36</td>\n",
              "      <td>246</td>\n",
              "      <td>2019-07-25</td>\n",
              "    </tr>\n",
              "    <tr>\n",
              "      <th>1</th>\n",
              "      <td>MainScreenAppear</td>\n",
              "      <td>7416695313311560658</td>\n",
              "      <td>2019-07-25 11:11:42</td>\n",
              "      <td>246</td>\n",
              "      <td>2019-07-25</td>\n",
              "    </tr>\n",
              "    <tr>\n",
              "      <th>2</th>\n",
              "      <td>PaymentScreenSuccessful</td>\n",
              "      <td>3518123091307005509</td>\n",
              "      <td>2019-07-25 11:28:47</td>\n",
              "      <td>248</td>\n",
              "      <td>2019-07-25</td>\n",
              "    </tr>\n",
              "    <tr>\n",
              "      <th>3</th>\n",
              "      <td>CartScreenAppear</td>\n",
              "      <td>3518123091307005509</td>\n",
              "      <td>2019-07-25 11:28:47</td>\n",
              "      <td>248</td>\n",
              "      <td>2019-07-25</td>\n",
              "    </tr>\n",
              "    <tr>\n",
              "      <th>4</th>\n",
              "      <td>PaymentScreenSuccessful</td>\n",
              "      <td>6217807653094995999</td>\n",
              "      <td>2019-07-25 11:48:42</td>\n",
              "      <td>248</td>\n",
              "      <td>2019-07-25</td>\n",
              "    </tr>\n",
              "  </tbody>\n",
              "</table>\n",
              "</div>\n",
              "    <div class=\"colab-df-buttons\">\n",
              "\n",
              "  <div class=\"colab-df-container\">\n",
              "    <button class=\"colab-df-convert\" onclick=\"convertToInteractive('df-a07e7624-a0f1-4eb1-a9e6-819156f2ee61')\"\n",
              "            title=\"Convert this dataframe to an interactive table.\"\n",
              "            style=\"display:none;\">\n",
              "\n",
              "  <svg xmlns=\"http://www.w3.org/2000/svg\" height=\"24px\" viewBox=\"0 -960 960 960\">\n",
              "    <path d=\"M120-120v-720h720v720H120Zm60-500h600v-160H180v160Zm220 220h160v-160H400v160Zm0 220h160v-160H400v160ZM180-400h160v-160H180v160Zm440 0h160v-160H620v160ZM180-180h160v-160H180v160Zm440 0h160v-160H620v160Z\"/>\n",
              "  </svg>\n",
              "    </button>\n",
              "\n",
              "  <style>\n",
              "    .colab-df-container {\n",
              "      display:flex;\n",
              "      gap: 12px;\n",
              "    }\n",
              "\n",
              "    .colab-df-convert {\n",
              "      background-color: #E8F0FE;\n",
              "      border: none;\n",
              "      border-radius: 50%;\n",
              "      cursor: pointer;\n",
              "      display: none;\n",
              "      fill: #1967D2;\n",
              "      height: 32px;\n",
              "      padding: 0 0 0 0;\n",
              "      width: 32px;\n",
              "    }\n",
              "\n",
              "    .colab-df-convert:hover {\n",
              "      background-color: #E2EBFA;\n",
              "      box-shadow: 0px 1px 2px rgba(60, 64, 67, 0.3), 0px 1px 3px 1px rgba(60, 64, 67, 0.15);\n",
              "      fill: #174EA6;\n",
              "    }\n",
              "\n",
              "    .colab-df-buttons div {\n",
              "      margin-bottom: 4px;\n",
              "    }\n",
              "\n",
              "    [theme=dark] .colab-df-convert {\n",
              "      background-color: #3B4455;\n",
              "      fill: #D2E3FC;\n",
              "    }\n",
              "\n",
              "    [theme=dark] .colab-df-convert:hover {\n",
              "      background-color: #434B5C;\n",
              "      box-shadow: 0px 1px 3px 1px rgba(0, 0, 0, 0.15);\n",
              "      filter: drop-shadow(0px 1px 2px rgba(0, 0, 0, 0.3));\n",
              "      fill: #FFFFFF;\n",
              "    }\n",
              "  </style>\n",
              "\n",
              "    <script>\n",
              "      const buttonEl =\n",
              "        document.querySelector('#df-a07e7624-a0f1-4eb1-a9e6-819156f2ee61 button.colab-df-convert');\n",
              "      buttonEl.style.display =\n",
              "        google.colab.kernel.accessAllowed ? 'block' : 'none';\n",
              "\n",
              "      async function convertToInteractive(key) {\n",
              "        const element = document.querySelector('#df-a07e7624-a0f1-4eb1-a9e6-819156f2ee61');\n",
              "        const dataTable =\n",
              "          await google.colab.kernel.invokeFunction('convertToInteractive',\n",
              "                                                    [key], {});\n",
              "        if (!dataTable) return;\n",
              "\n",
              "        const docLinkHtml = 'Like what you see? Visit the ' +\n",
              "          '<a target=\"_blank\" href=https://colab.research.google.com/notebooks/data_table.ipynb>data table notebook</a>'\n",
              "          + ' to learn more about interactive tables.';\n",
              "        element.innerHTML = '';\n",
              "        dataTable['output_type'] = 'display_data';\n",
              "        await google.colab.output.renderOutput(dataTable, element);\n",
              "        const docLink = document.createElement('div');\n",
              "        docLink.innerHTML = docLinkHtml;\n",
              "        element.appendChild(docLink);\n",
              "      }\n",
              "    </script>\n",
              "  </div>\n",
              "\n",
              "\n",
              "    <div id=\"df-4d241e80-a480-4ccf-9045-6340b2038df2\">\n",
              "      <button class=\"colab-df-quickchart\" onclick=\"quickchart('df-4d241e80-a480-4ccf-9045-6340b2038df2')\"\n",
              "                title=\"Suggest charts\"\n",
              "                style=\"display:none;\">\n",
              "\n",
              "<svg xmlns=\"http://www.w3.org/2000/svg\" height=\"24px\"viewBox=\"0 0 24 24\"\n",
              "     width=\"24px\">\n",
              "    <g>\n",
              "        <path d=\"M19 3H5c-1.1 0-2 .9-2 2v14c0 1.1.9 2 2 2h14c1.1 0 2-.9 2-2V5c0-1.1-.9-2-2-2zM9 17H7v-7h2v7zm4 0h-2V7h2v10zm4 0h-2v-4h2v4z\"/>\n",
              "    </g>\n",
              "</svg>\n",
              "      </button>\n",
              "\n",
              "<style>\n",
              "  .colab-df-quickchart {\n",
              "      --bg-color: #E8F0FE;\n",
              "      --fill-color: #1967D2;\n",
              "      --hover-bg-color: #E2EBFA;\n",
              "      --hover-fill-color: #174EA6;\n",
              "      --disabled-fill-color: #AAA;\n",
              "      --disabled-bg-color: #DDD;\n",
              "  }\n",
              "\n",
              "  [theme=dark] .colab-df-quickchart {\n",
              "      --bg-color: #3B4455;\n",
              "      --fill-color: #D2E3FC;\n",
              "      --hover-bg-color: #434B5C;\n",
              "      --hover-fill-color: #FFFFFF;\n",
              "      --disabled-bg-color: #3B4455;\n",
              "      --disabled-fill-color: #666;\n",
              "  }\n",
              "\n",
              "  .colab-df-quickchart {\n",
              "    background-color: var(--bg-color);\n",
              "    border: none;\n",
              "    border-radius: 50%;\n",
              "    cursor: pointer;\n",
              "    display: none;\n",
              "    fill: var(--fill-color);\n",
              "    height: 32px;\n",
              "    padding: 0;\n",
              "    width: 32px;\n",
              "  }\n",
              "\n",
              "  .colab-df-quickchart:hover {\n",
              "    background-color: var(--hover-bg-color);\n",
              "    box-shadow: 0 1px 2px rgba(60, 64, 67, 0.3), 0 1px 3px 1px rgba(60, 64, 67, 0.15);\n",
              "    fill: var(--button-hover-fill-color);\n",
              "  }\n",
              "\n",
              "  .colab-df-quickchart-complete:disabled,\n",
              "  .colab-df-quickchart-complete:disabled:hover {\n",
              "    background-color: var(--disabled-bg-color);\n",
              "    fill: var(--disabled-fill-color);\n",
              "    box-shadow: none;\n",
              "  }\n",
              "\n",
              "  .colab-df-spinner {\n",
              "    border: 2px solid var(--fill-color);\n",
              "    border-color: transparent;\n",
              "    border-bottom-color: var(--fill-color);\n",
              "    animation:\n",
              "      spin 1s steps(1) infinite;\n",
              "  }\n",
              "\n",
              "  @keyframes spin {\n",
              "    0% {\n",
              "      border-color: transparent;\n",
              "      border-bottom-color: var(--fill-color);\n",
              "      border-left-color: var(--fill-color);\n",
              "    }\n",
              "    20% {\n",
              "      border-color: transparent;\n",
              "      border-left-color: var(--fill-color);\n",
              "      border-top-color: var(--fill-color);\n",
              "    }\n",
              "    30% {\n",
              "      border-color: transparent;\n",
              "      border-left-color: var(--fill-color);\n",
              "      border-top-color: var(--fill-color);\n",
              "      border-right-color: var(--fill-color);\n",
              "    }\n",
              "    40% {\n",
              "      border-color: transparent;\n",
              "      border-right-color: var(--fill-color);\n",
              "      border-top-color: var(--fill-color);\n",
              "    }\n",
              "    60% {\n",
              "      border-color: transparent;\n",
              "      border-right-color: var(--fill-color);\n",
              "    }\n",
              "    80% {\n",
              "      border-color: transparent;\n",
              "      border-right-color: var(--fill-color);\n",
              "      border-bottom-color: var(--fill-color);\n",
              "    }\n",
              "    90% {\n",
              "      border-color: transparent;\n",
              "      border-bottom-color: var(--fill-color);\n",
              "    }\n",
              "  }\n",
              "</style>\n",
              "\n",
              "      <script>\n",
              "        async function quickchart(key) {\n",
              "          const quickchartButtonEl =\n",
              "            document.querySelector('#' + key + ' button');\n",
              "          quickchartButtonEl.disabled = true;  // To prevent multiple clicks.\n",
              "          quickchartButtonEl.classList.add('colab-df-spinner');\n",
              "          try {\n",
              "            const charts = await google.colab.kernel.invokeFunction(\n",
              "                'suggestCharts', [key], {});\n",
              "          } catch (error) {\n",
              "            console.error('Error during call to suggestCharts:', error);\n",
              "          }\n",
              "          quickchartButtonEl.classList.remove('colab-df-spinner');\n",
              "          quickchartButtonEl.classList.add('colab-df-quickchart-complete');\n",
              "        }\n",
              "        (() => {\n",
              "          let quickchartButtonEl =\n",
              "            document.querySelector('#df-4d241e80-a480-4ccf-9045-6340b2038df2 button');\n",
              "          quickchartButtonEl.style.display =\n",
              "            google.colab.kernel.accessAllowed ? 'block' : 'none';\n",
              "        })();\n",
              "      </script>\n",
              "    </div>\n",
              "\n",
              "    </div>\n",
              "  </div>\n"
            ],
            "application/vnd.google.colaboratory.intrinsic+json": {
              "type": "dataframe",
              "summary": "{\n  \"name\": \"display(df_logs\",\n  \"rows\": 5,\n  \"fields\": [\n    {\n      \"column\": \"event_name\",\n      \"properties\": {\n        \"dtype\": \"string\",\n        \"num_unique_values\": 3,\n        \"samples\": [\n          \"MainScreenAppear\",\n          \"PaymentScreenSuccessful\",\n          \"CartScreenAppear\"\n        ],\n        \"semantic_type\": \"\",\n        \"description\": \"\"\n      }\n    },\n    {\n      \"column\": \"device_id_hash\",\n      \"properties\": {\n        \"dtype\": \"string\",\n        \"num_unique_values\": 4,\n        \"samples\": [\n          \"7416695313311560658\",\n          \"6217807653094995999\",\n          \"4575588528974610257\"\n        ],\n        \"semantic_type\": \"\",\n        \"description\": \"\"\n      }\n    },\n    {\n      \"column\": \"event_timestamp\",\n      \"properties\": {\n        \"dtype\": \"date\",\n        \"min\": \"2019-07-25 04:43:36\",\n        \"max\": \"2019-07-25 11:48:42\",\n        \"num_unique_values\": 4,\n        \"samples\": [\n          \"2019-07-25 11:11:42\",\n          \"2019-07-25 11:48:42\",\n          \"2019-07-25 04:43:36\"\n        ],\n        \"semantic_type\": \"\",\n        \"description\": \"\"\n      }\n    },\n    {\n      \"column\": \"exp_id\",\n      \"properties\": {\n        \"dtype\": \"category\",\n        \"num_unique_values\": 2,\n        \"samples\": [\n          \"248\",\n          \"246\"\n        ],\n        \"semantic_type\": \"\",\n        \"description\": \"\"\n      }\n    },\n    {\n      \"column\": \"event_date\",\n      \"properties\": {\n        \"dtype\": \"date\",\n        \"min\": \"2019-07-25\",\n        \"max\": \"2019-07-25\",\n        \"num_unique_values\": 1,\n        \"samples\": [\n          \"2019-07-25\"\n        ],\n        \"semantic_type\": \"\",\n        \"description\": \"\"\n      }\n    }\n  ]\n}"
            }
          },
          "metadata": {}
        }
      ]
    },
    {
      "cell_type": "markdown",
      "source": [
        "### Paso 3. Estudiar y comprobar los datos\n",
        "\n"
      ],
      "metadata": {
        "id": "n-4KYMzvG-Hc"
      }
    },
    {
      "cell_type": "markdown",
      "source": [
        "### 3.1\n",
        "### ¿Cuántos eventos hay en los registros?\n",
        "### ¿Cuántos usuarios hay en los registros?\n",
        "### ¿Cuál es el promedio de eventos por usuario?"
      ],
      "metadata": {
        "id": "-12DT2EKuJuY"
      }
    },
    {
      "cell_type": "code",
      "metadata": {
        "colab": {
          "base_uri": "https://localhost:8080/"
        },
        "id": "dfdb432b",
        "outputId": "db04ce52-9ba8-4798-ca31-b43dfab0b422"
      },
      "source": [
        "# Calculamos el número de eventos en los registros\n",
        "num_events = len(df_logs)\n",
        "print(f\"Número total de eventos: {num_events}\")\n",
        "\n",
        "# Calculamos el número de usuarios en los registros\n",
        "num_users = df_logs['device_id_hash'].nunique()\n",
        "print(f\"Número total de usuarios: {num_users}\")\n",
        "\n",
        "# El promedio de eventos por usuario\n",
        "avg_events_per_user = num_events / num_users\n",
        "print(f\"Promedio de eventos por usuario: {avg_events_per_user:.2f}\")\n",
        "\n",
        "# Encontramos la fecha mínima y máxima para el período.\n",
        "min_date = df_logs['event_timestamp'].min()\n",
        "max_date = df_logs['event_timestamp'].max()\n",
        "print(f\"Período de tiempo cubierto por los datos: desde {min_date} hasta {max_date}\")"
      ],
      "execution_count": 4,
      "outputs": [
        {
          "output_type": "stream",
          "name": "stdout",
          "text": [
            "Número total de eventos: 244126\n",
            "Número total de usuarios: 7551\n",
            "Promedio de eventos por usuario: 32.33\n",
            "Período de tiempo cubierto por los datos: desde 2019-07-25 04:43:36 hasta 2019-08-07 21:15:17\n"
          ]
        }
      ]
    },
    {
      "cell_type": "markdown",
      "source": [
        "### 3.2 Gráfico por tiempo y fecha."
      ],
      "metadata": {
        "id": "UAJqXkPWuNFI"
      }
    },
    {
      "cell_type": "code",
      "metadata": {
        "colab": {
          "base_uri": "https://localhost:8080/",
          "height": 284
        },
        "id": "d12be53d",
        "outputId": "5849e2ec-0b43-4c9e-9124-2a0d44e14877"
      },
      "source": [
        "# Trazar un histograma por fecha y hora para visualizar la distribución de eventos\n",
        "plt.figure(figsize=(15, 6))\n",
        "df_logs['event_timestamp'].hist(bins=100)\n",
        "plt.title('Distribución de eventos a lo largo del tiempo',fontsize=16, fontweight='bold')\n",
        "plt.xlabel('Fecha y Hora', fontsize=14)\n",
        "plt.ylabel('Número de Eventos', fontsize=14)\n",
        "plt.xticks(rotation=45)\n",
        "plt.tight_layout()\n",
        "plt.show()"
      ],
      "execution_count": 18,
      "outputs": [
        {
          "output_type": "display_data",
          "data": {
            "text/plain": [
              "<Figure size 1500x600 with 1 Axes>"
            ],
            "image/png": "[encoded data removed]"
          },
          "metadata": {}
        }
      ]
    },
    {
      "cell_type": "markdown",
      "source": [
        "## Observaciones:\n",
        "#### Observando el histograma, se puede notar que hay una baja actividad de eventos al principio, con un aumento significativo a partir de una fecha específica. Esto sugiere que los datos no están completos para todo el rango de fechas que muestra min_date. Los eventos más antiguos podrían estar incompletos debido a razones técnicas, como se menciona en las instrucciones.\n",
        "\n",
        "#### Para asegurarnos de que estamos trabajando con datos completos y representativos, debemos identificar el momento en que los datos se vuelven completos y excluir los datos anteriores a esa fecha.\n",
        "\n",
        "#### Basándonos en la visualización, parece que los datos están completos aproximadamente a partir del 1 de agosto de 2019. Vamos a filtrar el DataFrame para incluir solo los eventos a partir de esa fecha y luego verificaremos cuántos eventos y usuarios perdimos al hacerlo."
      ],
      "metadata": {
        "id": "BsM2xvkJsZJh"
      }
    },
    {
      "cell_type": "markdown",
      "source": [
        "### 3.3 Encontrar y definir un periodo de tiempo con datos completos."
      ],
      "metadata": {
        "id": "nTlzctFmuiXz"
      }
    },
    {
      "cell_type": "code",
      "metadata": {
        "colab": {
          "base_uri": "https://localhost:8080/",
          "height": 356
        },
        "id": "5d8296a6",
        "outputId": "0b8ee90c-f3c1-4fb3-9295-8f7b1802e896"
      },
      "source": [
        "# Definir la fecha de inicio para datos completos\n",
        "start_date = pd.to_datetime('2019-08-01')\n",
        "\n",
        "# Filtrar el DataFrame para incluir solo eventos a partir de la fecha de inicio\n",
        "df_logs_filtered = df_logs[df_logs['event_timestamp'] >= start_date].copy()\n",
        "\n",
        "# Calcular cuántos eventos y usuarios se perdieron\n",
        "events_lost = len(df_logs) - len(df_logs_filtered)\n",
        "users_lost = df_logs['device_id_hash'].nunique() - df_logs_filtered['device_id_hash'].nunique()\n",
        "\n",
        "print(f\"Número de eventos perdidos al filtrar: {events_lost}\")\n",
        "print(f\"Número de usuarios perdidos al filtrar: {users_lost}\")\n",
        "\n",
        "# Mostrar el nuevo período de tiempo cubierto por los datos filtrados\n",
        "new_min_date = df_logs_filtered['event_timestamp'].min()\n",
        "new_max_date = df_logs_filtered['event_timestamp'].max()\n",
        "print(f\"Nuevo período de tiempo cubierto por los datos filtrados: desde {new_min_date} hasta {new_max_date}\")\n",
        "\n",
        "# Verificar la distribución de eventos en los datos filtrados con un histograma\n",
        "plt.figure(figsize=(15, 6))\n",
        "df_logs_filtered['event_timestamp'].hist(bins=100)\n",
        "plt.title('Distribución de eventos a lo largo del tiempo (Datos filtrados)',fontsize=16, fontweight='bold')\n",
        "plt.xlabel('Fecha y Hora', fontsize=14)\n",
        "plt.ylabel('Número de Eventos', fontsize=14)\n",
        "plt.xticks(rotation=45)\n",
        "plt.tight_layout()\n",
        "plt.show()"
      ],
      "execution_count": 19,
      "outputs": [
        {
          "output_type": "stream",
          "name": "stdout",
          "text": [
            "Número de eventos perdidos al filtrar: 2828\n",
            "Número de usuarios perdidos al filtrar: 17\n",
            "Nuevo período de tiempo cubierto por los datos filtrados: desde 2019-08-01 00:07:28 hasta 2019-08-07 21:15:17\n"
          ]
        },
        {
          "output_type": "display_data",
          "data": {
            "text/plain": [
              "<Figure size 1500x600 with 1 Axes>"
            ],
            "image/png": "[encoded data removed]"
          },
          "metadata": {}
        }
      ]
    },
    {
      "cell_type": "markdown",
      "source": [
        "## Observaciónes:\n",
        "#### Considerando que el número total inicial de eventos era de 244,126 y de usuarios era de 7,551, la pérdida de 2,828 eventos y 17 usuarios es relativamente pequeña; aproximadamente un 1.16% de eventos y 0.23% de usuarios. Por lo tanto, no perdimos una cantidad significativa de eventos y usuarios al excluir los datos más viejos."
      ],
      "metadata": {
        "id": "n55AQoYItoEx"
      }
    },
    {
      "cell_type": "markdown",
      "source": [
        "### 3.4 Asegúrate de tener usuarios de los tres grupos experimentales."
      ],
      "metadata": {
        "id": "9E8KG7Fuux5e"
      }
    },
    {
      "cell_type": "code",
      "metadata": {
        "colab": {
          "base_uri": "https://localhost:8080/"
        },
        "id": "a654585b",
        "outputId": "200b61c2-269a-473c-98c5-1e95e8ffbb76"
      },
      "source": [
        "# Verificamos los grupos experimentales presentes en los datos filtrados\n",
        "experimental_groups = df_logs_filtered['exp_id'].unique()\n",
        "print(f\"Grupos experimentales presentes en los datos filtrados: {experimental_groups}\")\n",
        "\n",
        "# Contamos el número de usuarios únicos por grupo experimental en los datos filtrados\n",
        "users_per_group = df_logs_filtered.groupby('exp_id')['device_id_hash'].nunique()\n",
        "print(\"\\nNúmero de usuarios únicos por grupo experimental (datos filtrados):\")\n",
        "print(users_per_group)"
      ],
      "execution_count": 7,
      "outputs": [
        {
          "output_type": "stream",
          "name": "stdout",
          "text": [
            "Grupos experimentales presentes en los datos filtrados: ['246' '247' '248']\n",
            "\n",
            "Número de usuarios únicos por grupo experimental (datos filtrados):\n",
            "exp_id\n",
            "246    2484\n",
            "247    2513\n",
            "248    2537\n",
            "Name: device_id_hash, dtype: int64\n"
          ]
        }
      ]
    },
    {
      "cell_type": "markdown",
      "source": [
        "### Observaciónes:\n",
        "####Podemos ver que los datos filtrados contienen usuarios de los tres grupos experimentales con una cantidad bastante equilibrada en cada uno, lo que nos permite proceder con el análisis de los eventos y, luego el test A/A/B."
      ],
      "metadata": {
        "id": "8KLdGvbvvqO-"
      }
    },
    {
      "cell_type": "markdown",
      "source": [
        "## Paso 4. Estudiar el embudo de eventos"
      ],
      "metadata": {
        "id": "lSqYqWwewRBY"
      }
    },
    {
      "cell_type": "markdown",
      "source": [
        "### 4.1 Qué eventos hay en los registros y su frecuencia de suceso. Ordénarlos por frecuencia."
      ],
      "metadata": {
        "id": "KtFzlSInwWl4"
      }
    },
    {
      "cell_type": "code",
      "metadata": {
        "colab": {
          "base_uri": "https://localhost:8080/",
          "height": 558
        },
        "id": "85e5e935",
        "outputId": "a88ee1e2-b4c2-4a7f-d6d9-afa66dff1bbe"
      },
      "source": [
        "# Contamos la frecuencia de cada tipo de evento\n",
        "event_counts = df_logs_filtered['event_name'].value_counts()\n",
        "\n",
        "# Mostramos la frecuencia de los eventos ordenados por frecuencia\n",
        "print(\"Frecuencia de eventos:\")\n",
        "print(event_counts)\n",
        "\n",
        "# Visualizamos la frecuencia de eventos\n",
        "plt.figure(figsize=(10, 6))\n",
        "event_counts.plot(kind='bar')\n",
        "plt.title('Frecuencia de Eventos', fontsize=16, fontweight='bold')\n",
        "plt.xlabel('Tipo de Evento', fontsize=14)\n",
        "plt.ylabel('Número de Ocurrencias', fontsize=14)\n",
        "plt.xticks(rotation=45, ha='right')\n",
        "plt.tight_layout()\n",
        "plt.show()"
      ],
      "execution_count": 20,
      "outputs": [
        {
          "output_type": "stream",
          "name": "stdout",
          "text": [
            "Frecuencia de eventos:\n",
            "event_name\n",
            "MainScreenAppear           117431\n",
            "OffersScreenAppear          46350\n",
            "CartScreenAppear            42365\n",
            "PaymentScreenSuccessful     34113\n",
            "Tutorial                     1039\n",
            "Name: count, dtype: int64\n"
          ]
        },
        {
          "output_type": "display_data",
          "data": {
            "text/plain": [
              "<Figure size 1000x600 with 1 Axes>"
            ],
            "image/png": "[encoded data removed]"
          },
          "metadata": {}
        }
      ]
    },
    {
      "cell_type": "markdown",
      "source": [
        "### Observaciónes:\n",
        "#### Este gráfico nos da una idea inicial del flujo de usuarios a través de la aplicación; muchos usuarios empiezan en la pantalla principal, exploran ofertas, algunos añaden al carrito y un subconjunto de estos finaliza la compra. El tutorial parece que es una etapa menos común en el recorrido general del usuario, al menos en el período de datos completo que estamos analizando."
      ],
      "metadata": {
        "id": "GxmZivmyxnDl"
      }
    },
    {
      "cell_type": "markdown",
      "source": [
        "### 4.2 Análisis del embudo de eventos."
      ],
      "metadata": {
        "id": "vbhQ8hY5y-YK"
      }
    },
    {
      "cell_type": "code",
      "metadata": {
        "colab": {
          "base_uri": "https://localhost:8080/"
        },
        "id": "703420f3",
        "outputId": "9ff5d937-2f3d-42df-e24b-37c0b638f893"
      },
      "source": [
        "# Contar el número de usuarios únicos para cada evento\n",
        "users_per_event = df_logs_filtered.groupby('event_name')['device_id_hash'].nunique().sort_values(ascending=False)\n",
        "\n",
        "print(\"Número de usuarios únicos por evento:\")\n",
        "print(users_per_event)"
      ],
      "execution_count": 9,
      "outputs": [
        {
          "output_type": "stream",
          "name": "stdout",
          "text": [
            "Número de usuarios únicos por evento:\n",
            "event_name\n",
            "MainScreenAppear           7419\n",
            "OffersScreenAppear         4593\n",
            "CartScreenAppear           3734\n",
            "PaymentScreenSuccessful    3539\n",
            "Tutorial                    840\n",
            "Name: device_id_hash, dtype: int64\n"
          ]
        }
      ]
    },
    {
      "cell_type": "markdown",
      "source": [
        "### 4.3 Cantidad de usuarios que realizaron cada una de estas acciones, ordenar los eventos por el número de usuarios. Calcular la proporción de usuarios que realizaron la acción al menos una vez."
      ],
      "metadata": {
        "id": "nRs8X67K0WXQ"
      }
    },
    {
      "cell_type": "code",
      "metadata": {
        "colab": {
          "base_uri": "https://localhost:8080/"
        },
        "id": "31654210",
        "outputId": "7a95902e-cf63-4ffc-8885-9ddda765bc5f"
      },
      "source": [
        "# Definimos el orden del embudo de conversión excluimos Tutorial\n",
        "funnel_order = [\n",
        "    'MainScreenAppear',\n",
        "    'OffersScreenAppear',\n",
        "    'CartScreenAppear',\n",
        "    'PaymentScreenSuccessful'\n",
        "]\n",
        "\n",
        "# Filtramos el DataFrame para incluir solo los eventos del embudo\n",
        "df_funnel = df_logs_filtered[df_logs_filtered['event_name'].isin(funnel_order)]\n",
        "\n",
        "# Obtenemos el primer evento de cada usuario para determinar su punto de entrada al embudo\n",
        "first_event_per_user = df_funnel.sort_values('event_timestamp').groupby('device_id_hash').first().reset_index()\n",
        "\n",
        "# Contamos los usuarios en cada etapa del embudo en el orden\n",
        "funnel_counts = first_event_per_user['event_name'].value_counts().reindex(funnel_order)\n",
        "\n",
        "print(\"\\nNúmero de usuarios que llegaron a cada etapa del embudo:\")\n",
        "print(funnel_counts)\n",
        "print('-------------------------------------------------------------------')\n",
        "\n",
        "# Calculamos las tasas de conversión\n",
        "print(\"\\nTasas de conversión del embudo:\")\n",
        "previous_step_count = 0\n",
        "for i, event in enumerate(funnel_order):\n",
        "    current_step_count = funnel_counts.loc[event]\n",
        "    if i == 0:\n",
        "        conversion_rate_from_previous = 1.0 # Considerando que vienen del anterior\n",
        "        conversion_rate_from_start = 1.0    # COnsiderando que vienen desde el inicio\n",
        "    else:\n",
        "        # Tasa de conversión desde el paso previo\n",
        "        conversion_rate_from_previous = current_step_count / previous_step_count if previous_step_count > 0 else 0\n",
        "        # Tasa de conversión desde el inicio.\n",
        "        conversion_rate_from_start = current_step_count / funnel_counts.iloc[0] if funnel_counts.iloc[0] > 0 else 0\n",
        "\n",
        "    print(f\"  {event}: {current_step_count} usuarios\")\n",
        "    if i > 0:\n",
        "        print(f\"    Tasa de conversión desde '{funnel_order[i-1]}': {conversion_rate_from_previous:.2%}\")\n",
        "        print(f\"    Tasa de conversión desde el inicio ('{funnel_order[0]}'): {conversion_rate_from_start:.2%}\")\n",
        "\n",
        "    previous_step_count = current_step_count"
      ],
      "execution_count": 21,
      "outputs": [
        {
          "output_type": "stream",
          "name": "stdout",
          "text": [
            "\n",
            "Número de usuarios que llegaron a cada etapa del embudo:\n",
            "event_name\n",
            "MainScreenAppear           7085\n",
            "OffersScreenAppear          287\n",
            "CartScreenAppear             61\n",
            "PaymentScreenSuccessful      97\n",
            "Name: count, dtype: int64\n",
            "-------------------------------------------------------------------\n",
            "\n",
            "Tasas de conversión del embudo:\n",
            "  MainScreenAppear: 7085 usuarios\n",
            "  OffersScreenAppear: 287 usuarios\n",
            "    Tasa de conversión desde 'MainScreenAppear': 4.05%\n",
            "    Tasa de conversión desde el inicio ('MainScreenAppear'): 4.05%\n",
            "  CartScreenAppear: 61 usuarios\n",
            "    Tasa de conversión desde 'OffersScreenAppear': 21.25%\n",
            "    Tasa de conversión desde el inicio ('MainScreenAppear'): 0.86%\n",
            "  PaymentScreenSuccessful: 97 usuarios\n",
            "    Tasa de conversión desde 'CartScreenAppear': 159.02%\n",
            "    Tasa de conversión desde el inicio ('MainScreenAppear'): 1.37%\n"
          ]
        }
      ]
    },
    {
      "cell_type": "code",
      "metadata": {
        "colab": {
          "base_uri": "https://localhost:8080/",
          "height": 506
        },
        "id": "ce6b7c4a",
        "outputId": "6c4e7c0e-8bc3-455a-c275-e3b4a199242e"
      },
      "source": [
        "# Definir el orden del embudo para la visualización\n",
        "funnel_order_viz = [\n",
        "    'MainScreenAppear',\n",
        "    'OffersScreenAppear',\n",
        "    'CartScreenAppear',\n",
        "    'PaymentScreenSuccessful'\n",
        "]\n",
        "\n",
        "# Seleccionar el número de usuarios únicos para los eventos del embudo y ordenarlos\n",
        "users_in_funnel = users_per_event.reindex(funnel_order_viz)\n",
        "\n",
        "# Crear el gráfico de embudo (gráfico de barras)\n",
        "plt.figure(figsize=(10, 6))\n",
        "users_in_funnel.plot(kind='bar')\n",
        "plt.title('Embudo de Eventos - Número de Usuarios Únicos por Etapa')\n",
        "plt.xlabel('Etapa del Embudo')\n",
        "plt.ylabel('Número de Usuarios Únicos')\n",
        "plt.xticks(rotation=45, ha='right')\n",
        "plt.grid(axis='y', linestyle='--')\n",
        "plt.tight_layout()\n",
        "plt.show()\n",
        "\n",
        "# Imprimir las tasas de perdida de usuarios entre fases\n",
        "print(\"\\nCaída de usuarios entre etapas:\")\n",
        "previous_count = 0\n",
        "for i, event in enumerate(funnel_order_viz):\n",
        "    current_count = users_in_funnel.loc[event]\n",
        "    if i > 0:\n",
        "        drop_off = previous_count - current_count\n",
        "        drop_off_rate = (drop_off / previous_count) * 100 if previous_count > 0 else 0\n",
        "        print(f\"  De '{funnel_order_viz[i-1]}' a '{event}': {drop_off} usuarios perdidos ({drop_off_rate:.2f}%)\")\n",
        "    previous_count = current_count"
      ],
      "execution_count": 23,
      "outputs": [
        {
          "output_type": "display_data",
          "data": {
            "text/plain": [
              "<Figure size 1000x600 with 1 Axes>"
            ],
            "image/png": "[encoded data removed]"
          },
          "metadata": {}
        },
        {
          "output_type": "stream",
          "name": "stdout",
          "text": [
            "\n",
            "Caída de usuarios entre etapas:\n",
            "  De 'MainScreenAppear' a 'OffersScreenAppear': 2826 usuarios perdidos (38.09%)\n",
            "  De 'OffersScreenAppear' a 'CartScreenAppear': 859 usuarios perdidos (18.70%)\n",
            "  De 'CartScreenAppear' a 'PaymentScreenSuccessful': 195 usuarios perdidos (5.22%)\n"
          ]
        }
      ]
    },
    {
      "cell_type": "markdown",
      "source": [
        "### Observaciónes:\n",
        "#### Calculamos dos tipos de tasas de conversión; desde la etapa anterior y desde el inicio o MainScreenAppear.\n",
        "\n",
        "#### Vemos que hay una caída significativa de usuarios entre la MainScreenAppear y la OffersScreenAppear; solo un 4.05% continúa. Este podría ser un cuello de botella importante en el embudo. Habría que investigar por qué tan pocos usuarios van desde la pantalla principal a la de ofertas.\n",
        "\n",
        "#### Otro punto interesante es que la tasa de conversión de CartScreenAppear a PaymentScreenSuccessful parece muy alta 159%, esto es un indicador de que la metodología de contar el \"primer evento en el orden\" como punto de entrada al embudo puede no ser la mejor forma de representar el flujo real. Podría ser más útil considerar a todos los usuarios que alcanzan cada etapa, independientemente de si fue su primer evento en la secuencia definida.\n",
        "\n",
        "####"
      ],
      "metadata": {
        "id": "DQqTVIxL3Gd7"
      }
    },
    {
      "cell_type": "markdown",
      "source": [
        "### Observaciones en general:\n",
        "#### El análisis del embudo de eventos revela que la pantalla principal MainScreenAppear es el punto de entrada más común para los usuarios. Sin embargo, se observa una caída significativa de usuarios al pasar de la pantalla principal a la de ofertas OffersScreenAppear, lo que sugiere un cuello de botella importante en esta transición.\n",
        "#### Aunque hay pérdidas menores en las etapas posteriores de ofertas al carrito y del carrito al pago exitoso, la mayor oportunidad de mejora para aumentar la conversión estaría en optimizar el paso inicial de la pantalla principal a la de ofertas para catpar a más usuarios y llevarlos hacia las etapas de compra. Una vez que los usuarios llegan a la pantalla del carrito, la mayoría parece completar la compra.\n",
        "\n"
      ],
      "metadata": {
        "id": "Ge6wm0bD5uba"
      }
    },
    {
      "cell_type": "markdown",
      "source": [
        "## Paso 5. Estudiar los resultados del experimento"
      ],
      "metadata": {
        "id": "jqdWrzMC6eBi"
      }
    },
    {
      "cell_type": "markdown",
      "source": [
        "### 5.1 Observar diferencias en grupos, prueba A/A"
      ],
      "metadata": {
        "id": "s3M_Cnpc6gOB"
      }
    },
    {
      "cell_type": "code",
      "metadata": {
        "colab": {
          "base_uri": "https://localhost:8080/"
        },
        "id": "0826e2d4",
        "outputId": "089ab324-0600-41f0-8e11-1807da0f8312"
      },
      "source": [
        "from statsmodels.stats.proportion import proportions_ztest\n",
        "\n",
        "# Definimos los grupos de control para el test A/A\n",
        "group_a1 = '246'\n",
        "group_a2 = '247'\n",
        "\n",
        "# Filtramos los datos para incluir solo los grupos A1 y A2\n",
        "df_aa = df_logs_filtered[df_logs_filtered['exp_id'].isin([group_a1, group_a2])].copy()\n",
        "\n",
        "# Definimos las etapas del embudo a analizar\n",
        "funnel_stages = [\n",
        "    'MainScreenAppear',\n",
        "    'OffersScreenAppear',\n",
        "    'CartScreenAppear',\n",
        "    'PaymentScreenSuccessful'\n",
        "]\n",
        "\n",
        "# Obtener la lista de usuarios únicos en cada grupo A1 y A2\n",
        "users_a1 = df_aa[df_aa['exp_id'] == group_a1]['device_id_hash'].unique()\n",
        "users_a2 = df_aa[df_aa['exp_id'] == group_a2]['device_id_hash'].unique()\n",
        "\n",
        "n_users_a1 = len(users_a1)\n",
        "n_users_a2 = len(users_a2)\n",
        "\n",
        "print(f\"Número de usuarios en Grupo {group_a1}: {n_users_a1}\")\n",
        "print(f\"Número de usuarios en Grupo {group_a2}: {n_users_a2}\")\n",
        "print(\"-\" * 30)\n",
        "\n",
        "# Iteramos sobre cada etapa del embudo y realizar la prueba Z\n",
        "alpha = 0.05  # Nivel de significancia\n",
        "\n",
        "print(\"Resultados del Test A/A (Grupos 246 vs 247):\")\n",
        "\n",
        "for stage in funnel_stages:\n",
        "    # Contamos usuarios únicos que llegaron a esta etapa en cada grupo\n",
        "    users_reached_stage_a1 = df_aa[(df_aa['exp_id'] == group_a1) & (df_aa['event_name'] == stage)]['device_id_hash'].nunique()\n",
        "    users_reached_stage_a2 = df_aa[(df_aa['exp_id'] == group_a2) & (df_aa['event_name'] == stage)]['device_id_hash'].nunique()\n",
        "\n",
        "    # Realizamos la prueba Z para comparar las proporciones\n",
        "    # counts: número de usuarios que llegaron a la etapa\n",
        "    # nobs: número total de usuarios en el grupo\n",
        "    count = [users_reached_stage_a1, users_reached_stage_a2]\n",
        "    nobs = [n_users_a1, n_users_a2]\n",
        "\n",
        "    z_stat, p_value = proportions_ztest(count, nobs)\n",
        "\n",
        "    print(f\"\\nEtapa: {stage}\")\n",
        "    print(f\"  Usuarios que llegaron a {stage} en Grupo {group_a1}: {users_reached_stage_a1} ({users_reached_stage_a1/n_users_a1:.2%})\")\n",
        "    print(f\"  Usuarios que llegaron a {stage} en Grupo {group_a2}: {users_reached_stage_a2} ({users_reached_stage_a2/n_users_a2:.2%})\")\n",
        "    print(f\"  Estadístico Z: {z_stat:.4f}\")\n",
        "    print(f\"  Valor P: {p_value:.4f}\")\n",
        "\n",
        "    # Interpretar el resultado de la prueba\n",
        "    if p_value < alpha:\n",
        "        print(\"  Resultado: Diferencia estadísticamente significativa (Rechazamos H0)\")\n",
        "    else:\n",
        "        print(\"  Resultado: No hay diferencia estadísticamente significativa (No podemos rechazar H0)\")"
      ],
      "execution_count": 12,
      "outputs": [
        {
          "output_type": "stream",
          "name": "stdout",
          "text": [
            "Número de usuarios en Grupo 246: 2484\n",
            "Número de usuarios en Grupo 247: 2513\n",
            "------------------------------\n",
            "Resultados del Test A/A (Grupos 246 vs 247):\n",
            "\n",
            "Etapa: MainScreenAppear\n",
            "  Usuarios que llegaron a MainScreenAppear en Grupo 246: 2450 (98.63%)\n",
            "  Usuarios que llegaron a MainScreenAppear en Grupo 247: 2476 (98.53%)\n",
            "  Estadístico Z: 0.3093\n",
            "  Valor P: 0.7571\n",
            "  Resultado: No hay diferencia estadísticamente significativa (No podemos rechazar H0)\n",
            "\n",
            "Etapa: OffersScreenAppear\n",
            "  Usuarios que llegaron a OffersScreenAppear en Grupo 246: 1542 (62.08%)\n",
            "  Usuarios que llegaron a OffersScreenAppear en Grupo 247: 1520 (60.49%)\n",
            "  Estadístico Z: 1.1550\n",
            "  Valor P: 0.2481\n",
            "  Resultado: No hay diferencia estadísticamente significativa (No podemos rechazar H0)\n",
            "\n",
            "Etapa: CartScreenAppear\n",
            "  Usuarios que llegaron a CartScreenAppear en Grupo 246: 1266 (50.97%)\n",
            "  Usuarios que llegaron a CartScreenAppear en Grupo 247: 1238 (49.26%)\n",
            "  Estadístico Z: 1.2034\n",
            "  Valor P: 0.2288\n",
            "  Resultado: No hay diferencia estadísticamente significativa (No podemos rechazar H0)\n",
            "\n",
            "Etapa: PaymentScreenSuccessful\n",
            "  Usuarios que llegaron a PaymentScreenSuccessful en Grupo 246: 1200 (48.31%)\n",
            "  Usuarios que llegaron a PaymentScreenSuccessful en Grupo 247: 1158 (46.08%)\n",
            "  Estadístico Z: 1.5780\n",
            "  Valor P: 0.1146\n",
            "  Resultado: No hay diferencia estadísticamente significativa (No podemos rechazar H0)\n"
          ]
        }
      ]
    },
    {
      "cell_type": "markdown",
      "source": [
        "### Observaciónes:\n",
        "#### Para todas las etapas del embudo analizadas, el valor P obtenido de la prueba Z es mayor que nuestro nivel de significancia. Esto significa que no hay una diferencia estadísticamente significativa en la proporción de usuarios que alcanzan cada una de estas etapas entre el Grupo 246 y el Grupo 247.\n",
        "\n",
        "### Los dos grupos de control se comportan de manera muy similar. Esto es un resultado positivo para este test A/A.\n",
        "\n",
        "#### Como los grupos de control son comparables, podemos proceder con el análisis del test A/B con confianza."
      ],
      "metadata": {
        "id": "MllsPzOD8iFr"
      }
    },
    {
      "cell_type": "markdown",
      "source": [
        "### 5.2 Seleccionar el evento más popular y calcular su proporción. Ver si la diferencia es estadisticamente significativa."
      ],
      "metadata": {
        "id": "PwnpFce39_m-"
      }
    },
    {
      "cell_type": "code",
      "metadata": {
        "colab": {
          "base_uri": "https://localhost:8080/"
        },
        "id": "9509623a",
        "outputId": "9b3e7fcb-9767-420d-a882-11e56edc09e9"
      },
      "source": [
        "# Definir una función para realizar la prueba Z para proporciones\n",
        "def check_statistical_difference(group1_id, group2_id, event_name, df, alpha=0.05):\n",
        "\n",
        "    # Filtramos datos para los dos grupos\n",
        "    df_groups = df[df['exp_id'].isin([group1_id, group2_id])].copy()\n",
        "\n",
        "    # Obtenemos el número total de usuarios únicos en cada grupo\n",
        "    n_users_group1 = df_groups[df_groups['exp_id'] == group1_id]['device_id_hash'].nunique()\n",
        "    n_users_group2 = df_groups[df_groups['exp_id'] == group2_id]['device_id_hash'].nunique()\n",
        "\n",
        "    # Contamos usuarios únicos que realizaron el evento en cada grupo\n",
        "    users_with_event_group1 = df_groups[(df_groups['exp_id'] == group1_id) & (df_groups['event_name'] == event_name)]['device_id_hash'].nunique()\n",
        "    users_with_event_group2 = df_groups[(df_groups['exp_id'] == group2_id) & (df_groups['event_name'] == event_name)]['device_id_hash'].nunique()\n",
        "\n",
        "    # Preparamos datos para la prueba Z\n",
        "    count = [users_with_event_group1, users_with_event_group2]\n",
        "    nobs = [n_users_group1, n_users_group2]\n",
        "\n",
        "    # Ahora Realizamos la prueba Z\n",
        "    z_stat, p_value = proportions_ztest(count, nobs)\n",
        "\n",
        "    # Imprimimos los resultados\n",
        "    print(f\"Comparando el evento '{event_name}' entre Grupo {group1_id} y Grupo {group2_id}:\")\n",
        "    print(f\"  Usuarios en Grupo {group1_id} que realizaron '{event_name}': {users_with_event_group1} ({users_with_event_group1/n_users_group1:.2%})\")\n",
        "    print(f\"  Usuarios en Grupo {group2_id} que realizaron '{event_name}': {users_with_event_group2} ({users_with_event_group2/n_users_group2:.2%})\")\n",
        "    print(f\"  Estadístico Z: {z_stat:.4f}\")\n",
        "    print(f\"  Valor P: {p_value:.4f}\")\n",
        "\n",
        "    # Interpretamos el resultado\n",
        "    if p_value < alpha:\n",
        "        print(\"  Resultado: Diferencia estadísticamente significativa (Rechazamos H0)\")\n",
        "    else:\n",
        "        print(\"  Resultado: No hay diferencia estadísticamente significativa (No podemos rechazar H0)\")\n",
        "    print(\"-\" * 50)\n",
        "\n",
        "\n",
        "# Definimos nuevamente los grupos de control y el nivel alpha\n",
        "group_a1 = '246'\n",
        "group_a2 = '247'\n",
        "alpha = 0.05\n",
        "\n",
        "# Obtenemos la lista de todos los eventos únicos en los datos filtrados\n",
        "all_events = df_logs_filtered['event_name'].unique()\n",
        "\n",
        "# Iteramos sobre cada evento y realizamos la prueba A/A\n",
        "print(\"Resultados de la prueba A/A para cada evento individualmente (Grupos 246 vs 247):\")\n",
        "for event in all_events:\n",
        "    check_statistical_difference(group_a1, group_a2, event, df_logs_filtered, alpha)"
      ],
      "execution_count": 13,
      "outputs": [
        {
          "output_type": "stream",
          "name": "stdout",
          "text": [
            "Resultados de la prueba A/A para cada evento individualmente (Grupos 246 vs 247):\n",
            "Comparando el evento 'Tutorial' entre Grupo 246 y Grupo 247:\n",
            "  Usuarios en Grupo 246 que realizaron 'Tutorial': 278 (11.19%)\n",
            "  Usuarios en Grupo 247 que realizaron 'Tutorial': 283 (11.26%)\n",
            "  Estadístico Z: -0.0782\n",
            "  Valor P: 0.9377\n",
            "  Resultado: No hay diferencia estadísticamente significativa (No podemos rechazar H0)\n",
            "--------------------------------------------------\n",
            "Comparando el evento 'MainScreenAppear' entre Grupo 246 y Grupo 247:\n",
            "  Usuarios en Grupo 246 que realizaron 'MainScreenAppear': 2450 (98.63%)\n",
            "  Usuarios en Grupo 247 que realizaron 'MainScreenAppear': 2476 (98.53%)\n",
            "  Estadístico Z: 0.3093\n",
            "  Valor P: 0.7571\n",
            "  Resultado: No hay diferencia estadísticamente significativa (No podemos rechazar H0)\n",
            "--------------------------------------------------\n",
            "Comparando el evento 'OffersScreenAppear' entre Grupo 246 y Grupo 247:\n",
            "  Usuarios en Grupo 246 que realizaron 'OffersScreenAppear': 1542 (62.08%)\n",
            "  Usuarios en Grupo 247 que realizaron 'OffersScreenAppear': 1520 (60.49%)\n",
            "  Estadístico Z: 1.1550\n",
            "  Valor P: 0.2481\n",
            "  Resultado: No hay diferencia estadísticamente significativa (No podemos rechazar H0)\n",
            "--------------------------------------------------\n",
            "Comparando el evento 'CartScreenAppear' entre Grupo 246 y Grupo 247:\n",
            "  Usuarios en Grupo 246 que realizaron 'CartScreenAppear': 1266 (50.97%)\n",
            "  Usuarios en Grupo 247 que realizaron 'CartScreenAppear': 1238 (49.26%)\n",
            "  Estadístico Z: 1.2034\n",
            "  Valor P: 0.2288\n",
            "  Resultado: No hay diferencia estadísticamente significativa (No podemos rechazar H0)\n",
            "--------------------------------------------------\n",
            "Comparando el evento 'PaymentScreenSuccessful' entre Grupo 246 y Grupo 247:\n",
            "  Usuarios en Grupo 246 que realizaron 'PaymentScreenSuccessful': 1200 (48.31%)\n",
            "  Usuarios en Grupo 247 que realizaron 'PaymentScreenSuccessful': 1158 (46.08%)\n",
            "  Estadístico Z: 1.5780\n",
            "  Valor P: 0.1146\n",
            "  Resultado: No hay diferencia estadísticamente significativa (No podemos rechazar H0)\n",
            "--------------------------------------------------\n"
          ]
        }
      ]
    },
    {
      "cell_type": "code",
      "metadata": {
        "colab": {
          "base_uri": "https://localhost:8080/",
          "height": 410
        },
        "id": "dc33a7c1",
        "outputId": "411ffcd6-c033-4f3e-c936-db0f8c261c02"
      },
      "source": [
        "# Definir los grupos y las etapas del embudo para poder graficar\n",
        "# No es solicitado pero es util la visualizacion y en afan de practicar...\n",
        "groups = ['246', '247', '248']\n",
        "funnel_stages = [\n",
        "    'MainScreenAppear',\n",
        "    'OffersScreenAppear',\n",
        "    'CartScreenAppear',\n",
        "    'PaymentScreenSuccessful'\n",
        "]\n",
        "\n",
        "# Calcular la proporción de usuarios únicos que llegaron a cada etapa por grupo\n",
        "proportions_by_group_stage = {}\n",
        "for group_id in groups:\n",
        "    # Número total de usuarios en el grupo\n",
        "    n_users_group = df_logs_filtered[df_logs_filtered['exp_id'] == group_id]['device_id_hash'].nunique()\n",
        "\n",
        "    proportions_by_group_stage[group_id] = {}\n",
        "    for stage in funnel_stages:\n",
        "        # Número de usuarios únicos que llegaron a esta etapa en el grupo\n",
        "        users_reached_stage = df_logs_filtered[(df_logs_filtered['exp_id'] == group_id) & (df_logs_filtered['event_name'] == stage)]['device_id_hash'].nunique()\n",
        "        # Calcular la proporción\n",
        "        proportion = users_reached_stage / n_users_group if n_users_group > 0 else 0\n",
        "        proportions_by_group_stage[group_id][stage] = proportion\n",
        "\n",
        "# Convertir el diccionario a un DataFrame para facilitar la visualización\n",
        "df_proportions = pd.DataFrame(proportions_by_group_stage)\n",
        "\n",
        "# Transponer el DataFrame para que las etapas sean filas y los grupos columnas\n",
        "df_proportions = df_proportions.T\n",
        "\n",
        "# Ordenar las columnas (etapas) según el orden del embudo\n",
        "df_proportions = df_proportions[funnel_stages]\n",
        "\n",
        "# Crear el gráfico de barras agrupadas\n",
        "df_proportions.plot(kind='bar', figsize=(12, 7))\n",
        "plt.title('Proporción de Usuarios Únicos por Etapa del Embudo y por Grupo', fontsize=16, fontweight='bold')\n",
        "plt.xlabel('Grupo Experimental', fontsize=14)\n",
        "plt.ylabel('Proporción de Usuarios Únicos', fontsize=14)\n",
        "plt.xticks(rotation=0)\n",
        "plt.legend(title='Etapa del Embudo', bbox_to_anchor=(1.05, 1), loc='upper left')\n",
        "plt.grid(axis='y', linestyle='--')\n",
        "plt.tight_layout()\n",
        "plt.show()"
      ],
      "execution_count": 24,
      "outputs": [
        {
          "output_type": "display_data",
          "data": {
            "text/plain": [
              "<Figure size 1200x700 with 1 Axes>"
            ],
            "image/png": "[encoded data removed]"
          },
          "metadata": {}
        }
      ]
    },
    {
      "cell_type": "markdown",
      "metadata": {
        "id": "30e4a5c7"
      },
      "source": [
        "# User Behavior Analysis and Typography A/A/B Test\n",
        "\n",
        "## Project Overview\n",
        "\n",
        "This project investigates user behavior within a food delivery application with two primary goals:\n",
        "1. To map and analyze the user conversion funnel to identify bottlenecks.\n",
        "2. To evaluate the impact of a typography change through an A/A/B test.\n",
        "\n",
        "The analysis aims to provide data-driven insights to optimize the conversion rate and guide design decisions.\n",
        "\n",
        "## Problem\n",
        "\n",
        "The company needs to understand how users navigate the application towards making a purchase. Specifically:\n",
        "- How many users reach the purchase stage?\n",
        "- Where do users drop off in the funnel?\n",
        "- What is the impact of a proposed application-wide font change on user behavior and conversion rates? Management is concerned the new font might be perceived as \"intimidating.\"\n",
        "\n",
        "An A/A/B test was conducted with three groups: two control groups using the old font and one test group using the new font. The A/A test between the two control groups serves to validate the experimental setup and establish a baseline for expected variation.\n",
        "\n",
        "## Development\n",
        "\n",
        "The analysis involved several steps:\n",
        "\n",
        "1.  **Data Loading and Preparation**:\n",
        "    - Loaded log data from `logs_exp_us.csv`.\n",
        "    - Parsed a single combined column into separate columns (`event_name`, `device_id_hash`, `event_timestamp`, `exp_id`).\n",
        "    - Converted `event_timestamp` to datetime objects and extracted a separate date column.\n",
        "    - Checked for missing values and found none.\n",
        "\n",
        "2.  **Data Study and Verification**:\n",
        "    - Calculated the total number of events and unique users.\n",
        "    - Determined the average number of events per user.\n",
        "    - Identified the time period covered by the data.\n",
        "    - Analyzed the distribution of events over time using a histogram, revealing incomplete data at the beginning of the log period.\n",
        "    - Filtered the data to include only the period with complete data (starting from August 1, 2019).\n",
        "    - Verified that filtering did not result in a significant loss of events or users.\n",
        "    - Confirmed the presence of users from all three experimental groups in the filtered data with a relatively balanced distribution.\n",
        "\n",
        "3.  **Event Funnel Analysis**:\n",
        "    - Studied the frequency of each event type, identifying `MainScreenAppear` as the most frequent.\n",
        "    - Analyzed the conversion funnel based on unique users reaching key stages (`MainScreenAppear` -> `OffersScreenAppear` -> `CartScreenAppear` -> `PaymentScreenSuccessful`).\n",
        "    - Visualized the funnel to show user drop-off points.\n",
        "\n",
        "4.  **A/A/B Test Analysis**:\n",
        "    - Conducted an A/A test between the two control groups (246 and 247) using the Z-test for proportions to compare the percentage of users reaching each funnel stage.\n",
        "    - Conducted A/B tests comparing the test group (248) with each control group individually (248 vs 246, 248 vs 247) and with the combined control groups (248 vs 246+247) for each event type using the Z-test for proportions.\n",
        "    - Used a significance level ($\\alpha$) of 0.05 for the statistical tests. Acknowledged the implication of multiple comparisons and the use of Bonferroni correction ($\\alpha_{adjusted} = 0.0025$).\n",
        "    - Visualized the proportion of users reaching each funnel stage by group to support the statistical findings.\n",
        "\n",
        "## Solution\n",
        "\n",
        "Based on the analysis:\n",
        "\n",
        "1.  **Conversion Funnel**: The primary bottleneck in the user journey is the transition from the **Main Screen to the Offers Screen**. A significant number of users drop off at this stage. The subsequent stages (Offers to Cart, Cart to Payment Successful) show relatively higher completion rates for users who reach them.\n",
        "2.  **A/A Test**: The A/A test confirmed **no statistically significant difference** between the two control groups (246 and 247) across all major funnel events. This validates the experimental setup and user distribution.\n",
        "3.  **A/B Test**: The A/B test comparing the test group (248) with the control groups (246, 247, and combined) revealed **no statistically significant difference** in the proportion of users reaching any of the key funnel stages or the Tutorial event.\n",
        "\n",
        "## Recommendations\n",
        "\n",
        "1.  **Focus on Main Screen to Offers Transition**: The most impactful opportunity for improving overall conversion lies in optimizing the Main Screen experience and the user's journey towards exploring offers. Investigate potential reasons for the low transition rate, such as the visibility and clarity of calls-to-action, user interface design, or initial user engagement elements on the main screen.\n",
        "2.  **Typography Change Decision**: Since the A/B test showed **no statistically significant impact** (neither positive nor negative) on key conversion metrics, the decision to implement the new typography can be based on **other factors** beyond conversion rate. These factors may include improved readability, aesthetic appeal, brand consistency, or technical ease of implementation. There is no statistical evidence from this experiment to suggest that the new font \"intimidates\" users or negatively affects conversion.\n",
        "\n",
        "This README provides a structured overview of the project, highlighting the problem addressed, the analytical steps taken, the key findings (solution), and actionable recommendations for the company."
      ]
    },
    {
      "cell_type": "markdown",
      "source": [
        "### Observaciones:\n",
        "#### Para todos los eventos analizados, el valor P obtenido de la prueba Z es mayor que nuestro nivel de significancia alpha = 0.05 Esto significa que no hay diferencia estadísticamente significativa en la proporción de usuarios que realizaron cada evento entre el Grupo 246 y el Grupo 247.\n",
        "\n",
        "#### Con base en los resultados de estas pruebas A/A individuales para cada evento, podemos confirmar que los grupos de control 246 y 247 se dividieron correctamente y son estadísticamente similares en cuanto al comportamiento de los usuarios en cada tipo de evento. Esto refuerza la confianza en la calidad de los datos y en la configuración del experimento, permitiéndonos proceder con seguridad al análisis A/B para comparar el grupo de prueba con estos grupos de control."
      ],
      "metadata": {
        "id": "COkUU9XrHXOE"
      }
    },
    {
      "cell_type": "markdown",
      "source": [
        "### 5.3 Comparación de los resultados con los de cada uno de los grupos de control para cada evento de forma aislada. Luego comparación resultados con los resultados combinados de los grupos de control."
      ],
      "metadata": {
        "id": "SG37Q7bKIfZA"
      }
    },
    {
      "cell_type": "code",
      "metadata": {
        "colab": {
          "base_uri": "https://localhost:8080/"
        },
        "id": "fc66dfd7",
        "outputId": "961ff274-6b9d-4b68-e22a-b872906149a4"
      },
      "source": [
        "# Definimos los grupos\n",
        "group_a1 = '246'\n",
        "group_a2 = '247'\n",
        "group_b = '248'\n",
        "alpha = 0.05\n",
        "\n",
        "# Obtenemos la lista de todos los eventos únicos en los datos filtrados\n",
        "all_events = df_logs_filtered['event_name'].unique()\n",
        "\n",
        "print(\"--- Resultados del Test A/B ---\")\n",
        "\n",
        "# Comparamos Grupo B (248) vs Grupo A1 (246) para cada evento\n",
        "print(\"\\nComparando Grupo B (248) vs Grupo A1 (246):\")\n",
        "for event in all_events:\n",
        "    check_statistical_difference(group_b, group_a1, event, df_logs_filtered, alpha)\n",
        "\n",
        "# Comparamos ahora Grupo B (248) vs Grupo A2 (247) para cada evento\n",
        "print(\"\\nComparando Grupo B (248) vs Grupo A2 (247):\")\n",
        "for event in all_events:\n",
        "    check_statistical_difference(group_b, group_a2, event, df_logs_filtered, alpha)\n",
        "\n",
        "# Comparamos Grupo B (248) vs Grupos A combinados (246 + 247) para cada evento\n",
        "\n",
        "# Creamos un DataFrame con los grupos A combinados\n",
        "df_a_combined = df_logs_filtered[df_logs_filtered['exp_id'].isin([group_a1, group_a2])].copy()\n",
        "\n",
        "# Obtenemos el número total de usuarios únicos en los grupos A combinados y el grupo B\n",
        "n_users_a_combined = df_a_combined['device_id_hash'].nunique()\n",
        "n_users_b = df_logs_filtered[df_logs_filtered['exp_id'] == group_b]['device_id_hash'].nunique()\n",
        "\n",
        "print(\"\\nComparando Grupo B (248) vs Grupos A combinados (246 + 247):\")\n",
        "for event in all_events:\n",
        "    # Contamos usuarios únicos que realizaron el evento en los grupos A combinados y el grupo B\n",
        "    users_with_event_a_combined = df_a_combined[df_a_combined['event_name'] == event]['device_id_hash'].nunique()\n",
        "    users_with_event_b = df_logs_filtered[df_logs_filtered['exp_id'] == event]['device_id_hash'].nunique()\n",
        "\n",
        "\n",
        "    # Preparamos datos para la prueba Z\n",
        "    count = [users_with_event_b, users_with_event_a_combined]\n",
        "    nobs = [n_users_b, n_users_a_combined]\n",
        "\n",
        "    # Realizamos la prueba Z\n",
        "    z_stat, p_value = proportions_ztest(count, nobs)\n",
        "\n",
        "    # Imprimimos resultados\n",
        "    print(f\"Comparando el evento '{event}' entre Grupo {group_b} y Grupos A combinados:\")\n",
        "    print(f\"  Usuarios en Grupo {group_b} que realizaron '{event}': {users_with_event_b} ({users_with_event_b/n_users_b:.2%})\")\n",
        "    print(f\"  Usuarios en Grupos A combinados que realizaron '{event}': {users_with_event_a_combined} ({users_with_event_a_combined/n_users_a_combined:.2%})\")\n",
        "    print(f\"  Estadístico Z: {z_stat:.4f}\")\n",
        "    print(f\"  Valor P: {p_value:.4f}\")\n",
        "\n",
        "    # Interpretamos el resultado\n",
        "    if p_value < alpha:\n",
        "        print(\"  Resultado: Diferencia estadísticamente significativa (Rechazamos H0)\")\n",
        "    else:\n",
        "        print(\"  Resultado: No hay diferencia estadísticamente significativa (No podemos rechazar H0)\")\n",
        "    print(\"-\" * 50)"
      ],
      "execution_count": 15,
      "outputs": [
        {
          "output_type": "stream",
          "name": "stdout",
          "text": [
            "--- Resultados del Test A/B ---\n",
            "\n",
            "Comparando Grupo B (248) vs Grupo A1 (246):\n",
            "Comparando el evento 'Tutorial' entre Grupo 248 y Grupo 246:\n",
            "  Usuarios en Grupo 248 que realizaron 'Tutorial': 279 (11.00%)\n",
            "  Usuarios en Grupo 246 que realizaron 'Tutorial': 278 (11.19%)\n",
            "  Estadístico Z: -0.2193\n",
            "  Valor P: 0.8264\n",
            "  Resultado: No hay diferencia estadísticamente significativa (No podemos rechazar H0)\n",
            "--------------------------------------------------\n",
            "Comparando el evento 'MainScreenAppear' entre Grupo 248 y Grupo 246:\n",
            "  Usuarios en Grupo 248 que realizaron 'MainScreenAppear': 2493 (98.27%)\n",
            "  Usuarios en Grupo 246 que realizaron 'MainScreenAppear': 2450 (98.63%)\n",
            "  Estadístico Z: -1.0473\n",
            "  Valor P: 0.2950\n",
            "  Resultado: No hay diferencia estadísticamente significativa (No podemos rechazar H0)\n",
            "--------------------------------------------------\n",
            "Comparando el evento 'OffersScreenAppear' entre Grupo 248 y Grupo 246:\n",
            "  Usuarios en Grupo 248 que realizaron 'OffersScreenAppear': 1531 (60.35%)\n",
            "  Usuarios en Grupo 246 que realizaron 'OffersScreenAppear': 1542 (62.08%)\n",
            "  Estadístico Z: -1.2581\n",
            "  Valor P: 0.2084\n",
            "  Resultado: No hay diferencia estadísticamente significativa (No podemos rechazar H0)\n",
            "--------------------------------------------------\n",
            "Comparando el evento 'CartScreenAppear' entre Grupo 248 y Grupo 246:\n",
            "  Usuarios en Grupo 248 que realizaron 'CartScreenAppear': 1230 (48.48%)\n",
            "  Usuarios en Grupo 246 que realizaron 'CartScreenAppear': 1266 (50.97%)\n",
            "  Estadístico Z: -1.7599\n",
            "  Valor P: 0.0784\n",
            "  Resultado: No hay diferencia estadísticamente significativa (No podemos rechazar H0)\n",
            "--------------------------------------------------\n",
            "Comparando el evento 'PaymentScreenSuccessful' entre Grupo 248 y Grupo 246:\n",
            "  Usuarios en Grupo 248 que realizaron 'PaymentScreenSuccessful': 1181 (46.55%)\n",
            "  Usuarios en Grupo 246 que realizaron 'PaymentScreenSuccessful': 1200 (48.31%)\n",
            "  Estadístico Z: -1.2474\n",
            "  Valor P: 0.2123\n",
            "  Resultado: No hay diferencia estadísticamente significativa (No podemos rechazar H0)\n",
            "--------------------------------------------------\n",
            "\n",
            "Comparando Grupo B (248) vs Grupo A2 (247):\n",
            "Comparando el evento 'Tutorial' entre Grupo 248 y Grupo 247:\n",
            "  Usuarios en Grupo 248 que realizaron 'Tutorial': 279 (11.00%)\n",
            "  Usuarios en Grupo 247 que realizaron 'Tutorial': 283 (11.26%)\n",
            "  Estadístico Z: -0.2985\n",
            "  Valor P: 0.7653\n",
            "  Resultado: No hay diferencia estadísticamente significativa (No podemos rechazar H0)\n",
            "--------------------------------------------------\n",
            "Comparando el evento 'MainScreenAppear' entre Grupo 248 y Grupo 247:\n",
            "  Usuarios en Grupo 248 que realizaron 'MainScreenAppear': 2493 (98.27%)\n",
            "  Usuarios en Grupo 247 que realizaron 'MainScreenAppear': 2476 (98.53%)\n",
            "  Estadístico Z: -0.7410\n",
            "  Valor P: 0.4587\n",
            "  Resultado: No hay diferencia estadísticamente significativa (No podemos rechazar H0)\n",
            "--------------------------------------------------\n",
            "Comparando el evento 'OffersScreenAppear' entre Grupo 248 y Grupo 247:\n",
            "  Usuarios en Grupo 248 que realizaron 'OffersScreenAppear': 1531 (60.35%)\n",
            "  Usuarios en Grupo 247 que realizaron 'OffersScreenAppear': 1520 (60.49%)\n",
            "  Estadístico Z: -0.1007\n",
            "  Valor P: 0.9198\n",
            "  Resultado: No hay diferencia estadísticamente significativa (No podemos rechazar H0)\n",
            "--------------------------------------------------\n",
            "Comparando el evento 'CartScreenAppear' entre Grupo 248 y Grupo 247:\n",
            "  Usuarios en Grupo 248 que realizaron 'CartScreenAppear': 1230 (48.48%)\n",
            "  Usuarios en Grupo 247 que realizaron 'CartScreenAppear': 1238 (49.26%)\n",
            "  Estadístico Z: -0.5554\n",
            "  Valor P: 0.5786\n",
            "  Resultado: No hay diferencia estadísticamente significativa (No podemos rechazar H0)\n",
            "--------------------------------------------------\n",
            "Comparando el evento 'PaymentScreenSuccessful' entre Grupo 248 y Grupo 247:\n",
            "  Usuarios en Grupo 248 que realizaron 'PaymentScreenSuccessful': 1181 (46.55%)\n",
            "  Usuarios en Grupo 247 que realizaron 'PaymentScreenSuccessful': 1158 (46.08%)\n",
            "  Estadístico Z: 0.3354\n",
            "  Valor P: 0.7373\n",
            "  Resultado: No hay diferencia estadísticamente significativa (No podemos rechazar H0)\n",
            "--------------------------------------------------\n",
            "\n",
            "Comparando Grupo B (248) vs Grupos A combinados (246 + 247):\n",
            "Comparando el evento 'Tutorial' entre Grupo 248 y Grupos A combinados:\n",
            "  Usuarios en Grupo 248 que realizaron 'Tutorial': 0 (0.00%)\n",
            "  Usuarios en Grupos A combinados que realizaron 'Tutorial': 561 (11.23%)\n",
            "  Estadístico Z: -17.5424\n",
            "  Valor P: 0.0000\n",
            "  Resultado: Diferencia estadísticamente significativa (Rechazamos H0)\n",
            "--------------------------------------------------\n",
            "Comparando el evento 'MainScreenAppear' entre Grupo 248 y Grupos A combinados:\n",
            "  Usuarios en Grupo 248 que realizaron 'MainScreenAppear': 0 (0.00%)\n",
            "  Usuarios en Grupos A combinados que realizaron 'MainScreenAppear': 4926 (98.58%)\n",
            "  Estadístico Z: -84.9986\n",
            "  Valor P: 0.0000\n",
            "  Resultado: Diferencia estadísticamente significativa (Rechazamos H0)\n",
            "--------------------------------------------------\n",
            "Comparando el evento 'OffersScreenAppear' entre Grupo 248 y Grupos A combinados:\n",
            "  Usuarios en Grupo 248 que realizaron 'OffersScreenAppear': 0 (0.00%)\n",
            "  Usuarios en Grupos A combinados que realizaron 'OffersScreenAppear': 3062 (61.28%)\n",
            "  Estadístico Z: -51.1764\n",
            "  Valor P: 0.0000\n",
            "  Resultado: Diferencia estadísticamente significativa (Rechazamos H0)\n",
            "--------------------------------------------------\n",
            "Comparando el evento 'CartScreenAppear' entre Grupo 248 y Grupos A combinados:\n",
            "  Usuarios en Grupo 248 que realizaron 'CartScreenAppear': 0 (0.00%)\n",
            "  Usuarios en Grupos A combinados que realizaron 'CartScreenAppear': 2504 (50.11%)\n",
            "  Estadístico Z: -43.6367\n",
            "  Valor P: 0.0000\n",
            "  Resultado: Diferencia estadísticamente significativa (Rechazamos H0)\n",
            "--------------------------------------------------\n",
            "Comparando el evento 'PaymentScreenSuccessful' entre Grupo 248 y Grupos A combinados:\n",
            "  Usuarios en Grupo 248 que realizaron 'PaymentScreenSuccessful': 0 (0.00%)\n",
            "  Usuarios en Grupos A combinados que realizaron 'PaymentScreenSuccessful': 2358 (47.19%)\n",
            "  Estadístico Z: -41.7439\n",
            "  Valor P: 0.0000\n",
            "  Resultado: Diferencia estadísticamente significativa (Rechazamos H0)\n",
            "--------------------------------------------------\n"
          ]
        }
      ]
    },
    {
      "cell_type": "markdown",
      "source": [
        "### Onbservaciones:\n",
        "#### Después de comparar el grupo de prueba con las fuentes alteradas con los grupos de control individualmente y combinados, encontramos que no hay una diferencia estadísticamente significativa en la proporción de usuarios que realizan ninguno de los eventos clave del embudo.\n",
        "\n",
        "#### Esto significa que, con base en los datos de este experimento, el cambio de fuente no tuvo un impacto detectable ni positivo ni negativo en el comportamiento del usuario en las etapas principales del embudo de conversión. La empresa puede estar tranquila de que la nueva tipografía no parece \"intimidar\" a los usuarios ni afectar negativamente las tasas de conversión, pero tampoco parece ofrecer una mejora significativa en estas métricas.\n",
        "\n",
        "#### Por lo tanto, la decisión de implementar o no el cambio de fuente debería basarse en otros factores, como preferencias de diseño, consistencia de marca o facilidad de lectura percibida, ya que no hay evidencia estadística de un impacto en las métricas de conversión clave."
      ],
      "metadata": {
        "id": "SAMYbiCEK-aM"
      }
    },
    {
      "cell_type": "markdown",
      "source": [
        "### Conclusiones estadísticas:\n",
        "#### **Nivel de significancia establecido:** Para todas las pruebas de hipótesis estadísticas que realizamos anteriormente establecimos un nivel de significancia alpha de 0.05.\n",
        "\n",
        "#### **Cantidad de pruebas realizadas:** Hemos realizado pruebas Z para proporciones en varios escenarios: En total, hemos realizado 20 pruebas de hipótesis\n",
        "\n",
        "#### **Nivel de significancia más estricto:** Usar un alpha de 0.01 en lugar de 0.05 haría más difícil encontrar diferencias significativas. En nuestro caso, la mayoría de nuestros P-valores para las métricas clave ya eran mayores que 0.05, por lo que cambiar a 0.01 no alteraría nuestra conclusión fundamental de que el cambio de fuente no tuvo un impacto detectable estadísticamente significativo en las tasas de conversión del embudo principal. Reforzaría la conclusión de que los grupos de control son similares.\n",
        "\n",
        "#### **¿Cual deberia ser el nivel de significancia?** El nivel de significancia estándar es 0.05, y es el que hemos utilizado hasta ahora. Es comúnmente aceptado porque equilibra el riesgo de falsos positivos y falsos negativos.\n",
        "\n",
        "#### En este caso que realizamos varias pruebas, se podría considerar un ajuste para comparaciones múltiples, como la Corrección de Bonferroni, que daría un alpha de 0.0025.\n",
        "\n",
        "#### En este caso nuestras principales métricas del embudo no mostraron significancia estadística con el alpha de 0.05. Por lo tanto, es razonable mantener el alpha en 0.05  y no cambia nuestra conclusión principal del impacto del cambio de fuente en la conversión.\n",
        "\n",
        "#### Entonces si el objetivo fuera ser muy estrictos para evitar cualquier posible falso positivo, entonces usar un alpha ajustado sería el enfoque más estricto.\n",
        "\n",
        "#### Para este análisis, podemos quedarnos con 0.05 y estar seguros de nuestras conclusiones."
      ],
      "metadata": {
        "id": "RC90yYQONmFS"
      }
    },
    {
      "cell_type": "markdown",
      "source": [
        "## **Conclusiones y Recomendaciones para la Optimización de la Conversión en E-commerce**\n",
        "\n",
        "#### Basado en el análisis de los datos de comportamiento del usuario y los resultados del Test A/A/B, presentamos las siguientes conclusiones y recomendaciones clave:\n",
        "\n",
        "### Análisis del Embudo de Conversión:\n",
        "\n",
        "####El análisis del embudo de eventos reveló que la pantalla principal es el punto de entrada dominante para los usuarios. Sin embargo, se identificó un cuello de botella significativo en la transición de la pantalla principal a la pantalla de ofertas, con una caída considerable de usuarios en esta etapa. Las etapas posteriores del embudo muestran una tasa de finalización relativamente alta una vez que los usuarios llegan al carrito.\n",
        "\n",
        "#### **Recomendación:** La principal oportunidad para mejorar la tasa de conversión general reside en optimizar la experiencia del usuario en la pantalla principal y la forma en que los usuarios son guiados o incentivados a explorar las ofertas. Se sugiere investigar las posibles razones de la baja transición en esta etapa, la visibilidad de las ofertas, o problemas de usabilidad inicial.\n",
        "\n",
        "### Análisis del Test A/A/B:\n",
        "\n",
        "#### El Test A/A/B, mostró que no hay una diferencia estadísticamente significativa en la proporción de usuarios que alcanzan las etapas clave del embudo de conversión entre el grupo de prueba y los grupos de control. El Test A/A previo confirmó que los grupos de control 246 y 247 se comportaron de manera estadísticamente similar, validando la configuración experimental.\n",
        "\n",
        "#### Conclusión sobre el Test A/A/B: La nueva tipografía no parece tener un impacto detectable ni positivo ni negativo en las métricas de conversión clave. La preocupación de la gerencia sobre si la nueva fuente podría \"intimidar\" a los usuarios y afectar negativamente la conversión no se ve respaldada por la evidencia estadística de este experimento.\n",
        "\n",
        "#### **Recomendación sobre el Cambio de Fuentes:** Dado que el cambio de fuente no mostró un impacto estadísticamente significativo en las métricas de conversión clave, la decisión de implementar la nueva tipografía puede basarse en otros factores. No hay una razón estadística para evitar la implementación basada únicamente en el riesgo de afectar negativamente la conversión.\n",
        "\n",
        "### **Resumen General:**\n",
        "\n",
        "#### El análisis prioriza la optimización del flujo de usuarios desde la pantalla principal a las ofertas como el área de mayor impacto potencial en la conversión. El cambio de fuente, si bien no mostró impacto en las métricas de conversión, puede proceder basado en criterios de diseño y usabilidad, sin temor a perjudicar la conversión según los resultados de este experimento.\n",
        "\n"
      ],
      "metadata": {
        "id": "RDmpG1nPTje0"
      }
    }
  ]
}